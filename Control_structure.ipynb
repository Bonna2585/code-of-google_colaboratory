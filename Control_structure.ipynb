{
  "nbformat": 4,
  "nbformat_minor": 0,
  "metadata": {
    "colab": {
      "name": "Control_structure.ipynb",
      "provenance": [],
      "authorship_tag": "ABX9TyNt0olhMpGBR8n5KEN3Bw1l",
      "include_colab_link": true
    },
    "kernelspec": {
      "name": "python3",
      "display_name": "Python 3"
    }
  },
  "cells": [
    {
      "cell_type": "markdown",
      "metadata": {
        "id": "view-in-github",
        "colab_type": "text"
      },
      "source": [
        "<a href=\"https://colab.research.google.com/github/b295/code-of-google_colaboratory/blob/master/Control_structure.ipynb\" target=\"_parent\"><img src=\"https://colab.research.google.com/assets/colab-badge.svg\" alt=\"Open In Colab\"/></a>"
      ]
    },
    {
      "cell_type": "code",
      "metadata": {
        "id": "ts7LTVYrKL_l"
      },
      "source": [
        ""
      ],
      "execution_count": null,
      "outputs": []
    },
    {
      "cell_type": "markdown",
      "metadata": {
        "id": "wHXZJ8xnKZH8"
      },
      "source": [
        "**If Statement**\n"
      ]
    },
    {
      "cell_type": "code",
      "metadata": {
        "id": "OFttCQklKw_a",
        "outputId": "4308fd8f-29e5-4636-a39c-490188135138",
        "colab": {
          "base_uri": "https://localhost:8080/",
          "height": 34
        }
      },
      "source": [
        "grade=85\n",
        "if grade>=60:\n",
        "  print(\"passed\")"
      ],
      "execution_count": 1,
      "outputs": [
        {
          "output_type": "stream",
          "text": [
            "passed\n"
          ],
          "name": "stdout"
        }
      ]
    },
    {
      "cell_type": "markdown",
      "metadata": {
        "id": "HrP-pMMTOqhY"
      },
      "source": [
        "If else statement\n",
        "\n"
      ]
    },
    {
      "cell_type": "code",
      "metadata": {
        "id": "yVdJBdLgTuYE",
        "outputId": "cb317998-fb9e-4757-94d0-a14c4752c48b",
        "colab": {
          "base_uri": "https://localhost:8080/",
          "height": 34
        }
      },
      "source": [
        "grade =85\n",
        "if grade>=60:\n",
        "  print(\"passed\")\n",
        "else:\n",
        "  print(\"fail\")"
      ],
      "execution_count": 12,
      "outputs": [
        {
          "output_type": "stream",
          "text": [
            "passed\n"
          ],
          "name": "stdout"
        }
      ]
    },
    {
      "cell_type": "markdown",
      "metadata": {
        "id": "LyTgWnx0RBnH"
      },
      "source": [
        "Conditional Statement"
      ]
    },
    {
      "cell_type": "code",
      "metadata": {
        "id": "G3-bcYBzQ_QF",
        "outputId": "62eecb0c-db4f-4822-bbc2-5e4173cfdc36",
        "colab": {
          "base_uri": "https://localhost:8080/",
          "height": 34
        }
      },
      "source": [
        "result =('passed'if grade >=60 else 'Failed')\n",
        "print(result)"
      ],
      "execution_count": 7,
      "outputs": [
        {
          "output_type": "stream",
          "text": [
            "passed\n"
          ],
          "name": "stdout"
        }
      ]
    },
    {
      "cell_type": "markdown",
      "metadata": {
        "id": "7B5GEMCpRtHP"
      },
      "source": [
        "IF...elif...else statement"
      ]
    },
    {
      "cell_type": "code",
      "metadata": {
        "id": "NwCYFaUKTbbr",
        "outputId": "ad1513b8-f1ce-4ca7-87ab-d488a5ddb5aa",
        "colab": {
          "base_uri": "https://localhost:8080/",
          "height": 34
        }
      },
      "source": [
        "grade = 77\n",
        "\n",
        "if grade >= 90:\n",
        "    print('A')\n",
        "elif grade >= 80:\n",
        "    print('B')\n",
        "elif grade >= 70:\n",
        "    print('C')\n",
        "elif grade >= 60:\n",
        "    print('D')\n",
        "else:\n",
        "    print('F')"
      ],
      "execution_count": 11,
      "outputs": [
        {
          "output_type": "stream",
          "text": [
            "C\n"
          ],
          "name": "stdout"
        }
      ]
    },
    {
      "cell_type": "markdown",
      "metadata": {
        "id": "gwSQh4dWUGOG"
      },
      "source": [
        "While Statement"
      ]
    },
    {
      "cell_type": "code",
      "metadata": {
        "id": "vFgutxoSUMiN",
        "outputId": "4b83cf41-20ad-44bd-ff56-c3cff2aca8a4",
        "colab": {
          "base_uri": "https://localhost:8080/",
          "height": 34
        }
      },
      "source": [
        "number = 1\n",
        "\n",
        "while (number<10):\n",
        "  print(number, end=\" \") #print in same line with space using end =\" \"\n",
        "  number+=1"
      ],
      "execution_count": 13,
      "outputs": [
        {
          "output_type": "stream",
          "text": [
            "1 2 3 4 5 6 7 8 9 "
          ],
          "name": "stdout"
        }
      ]
    },
    {
      "cell_type": "markdown",
      "metadata": {
        "id": "I7461EcpUUKI"
      },
      "source": [
        "While statement to find the first power of 3 larger than 50"
      ]
    },
    {
      "cell_type": "code",
      "metadata": {
        "id": "qRDrSyDUUt0n"
      },
      "source": [
        "product = 3\n",
        "\n",
        "while product<=50:\n",
        "  product = product*3"
      ],
      "execution_count": 14,
      "outputs": []
    },
    {
      "cell_type": "code",
      "metadata": {
        "id": "K2FAKX_xU3fE",
        "outputId": "fb030ebb-2687-4f49-c68c-6cdb3365b91f",
        "colab": {
          "base_uri": "https://localhost:8080/",
          "height": 34
        }
      },
      "source": [
        "print(product)"
      ],
      "execution_count": 15,
      "outputs": [
        {
          "output_type": "stream",
          "text": [
            "81\n"
          ],
          "name": "stdout"
        }
      ]
    },
    {
      "cell_type": "markdown",
      "metadata": {
        "id": "uGleUw94VD_O"
      },
      "source": [
        "For Statement"
      ]
    },
    {
      "cell_type": "code",
      "metadata": {
        "id": "sxtmYfyEVHcz",
        "outputId": "915fe5dc-9b2e-4bb1-b3a0-c9c6abb728c9",
        "colab": {
          "base_uri": "https://localhost:8080/",
          "height": 34
        }
      },
      "source": [
        "for character in \"programming\":\n",
        "  print(character, end=\" \")"
      ],
      "execution_count": 16,
      "outputs": [
        {
          "output_type": "stream",
          "text": [
            "p r o g r a m m i n g "
          ],
          "name": "stdout"
        }
      ]
    },
    {
      "cell_type": "markdown",
      "metadata": {
        "id": "sdJgOTFvVWP2"
      },
      "source": [
        "Display 0 through 9"
      ]
    },
    {
      "cell_type": "code",
      "metadata": {
        "id": "svmvTWkoVbax",
        "outputId": "621c477b-e20d-44a7-fd42-0f831c2471a3",
        "colab": {
          "base_uri": "https://localhost:8080/",
          "height": 34
        }
      },
      "source": [
        "for counter in range(10):\n",
        "  print(counter, end=\" \")"
      ],
      "execution_count": 17,
      "outputs": [
        {
          "output_type": "stream",
          "text": [
            "0 1 2 3 4 5 6 7 8 9 "
          ],
          "name": "stdout"
        }
      ]
    },
    {
      "cell_type": "markdown",
      "metadata": {
        "id": "MzMjDqHqVj4V"
      },
      "source": [
        "From 0 through 1000000"
      ]
    },
    {
      "cell_type": "code",
      "metadata": {
        "id": "G1QhyoC-VqZR",
        "outputId": "0a9a5768-b18b-47ae-ea8d-f2fba54c3f4c",
        "colab": {
          "base_uri": "https://localhost:8080/",
          "height": 34
        }
      },
      "source": [
        "total = 0\n",
        "for number in range(1000001):\n",
        "  total = total+number\n",
        "\n",
        "print(total)"
      ],
      "execution_count": 18,
      "outputs": [
        {
          "output_type": "stream",
          "text": [
            "500000500000\n"
          ],
          "name": "stdout"
        }
      ]
    },
    {
      "cell_type": "code",
      "metadata": {
        "id": "7j_TNF14WMM5",
        "outputId": "b370822f-00d1-4ada-d774-171ea1a0ef01",
        "colab": {
          "base_uri": "https://localhost:8080/",
          "height": 34
        }
      },
      "source": [
        "for number in range(5,10):\n",
        "  print(number, end=\" \")"
      ],
      "execution_count": 19,
      "outputs": [
        {
          "output_type": "stream",
          "text": [
            "5 6 7 8 9 "
          ],
          "name": "stdout"
        }
      ]
    },
    {
      "cell_type": "code",
      "metadata": {
        "id": "NTZ2ggHEWRv1",
        "outputId": "f16426b9-c31c-4927-bcfd-e93af2fb4c87",
        "colab": {
          "base_uri": "https://localhost:8080/",
          "height": 34
        }
      },
      "source": [
        "for number in range(0,10,2):\n",
        "  print(number, end=\" \")"
      ],
      "execution_count": 20,
      "outputs": [
        {
          "output_type": "stream",
          "text": [
            "0 2 4 6 8 "
          ],
          "name": "stdout"
        }
      ]
    },
    {
      "cell_type": "code",
      "metadata": {
        "id": "2VIOVabyWUDt",
        "outputId": "37997e98-9a6f-4137-9acb-3ef36be30b48",
        "colab": {
          "base_uri": "https://localhost:8080/",
          "height": 34
        }
      },
      "source": [
        "for number in range(10,0,-2):\n",
        "  print(number, end=\" \")"
      ],
      "execution_count": 21,
      "outputs": [
        {
          "output_type": "stream",
          "text": [
            "10 8 6 4 2 "
          ],
          "name": "stdout"
        }
      ]
    },
    {
      "cell_type": "code",
      "metadata": {
        "id": "z6X6HumJX67S"
      },
      "source": [
        "number= int(input())"
      ],
      "execution_count": null,
      "outputs": []
    },
    {
      "cell_type": "code",
      "metadata": {
        "id": "9O6d8urWYLKY"
      },
      "source": [
        ""
      ],
      "execution_count": null,
      "outputs": []
    },
    {
      "cell_type": "code",
      "metadata": {
        "id": "GVdiftdPYhom"
      },
      "source": [
        "for i in range(1,11):\n",
        "  print(number,\"X\",i, \"=\",number*i)"
      ],
      "execution_count": null,
      "outputs": []
    },
    {
      "cell_type": "code",
      "metadata": {
        "id": "yKcBd7c9aJW-"
      },
      "source": [
        "for left in range(7):\n",
        "  for right in range(left,7):\n",
        "    print(\"[\"+str(left)+\"|\"+str(right)+\"]\",end=\" \")\n",
        "    print()"
      ],
      "execution_count": null,
      "outputs": []
    },
    {
      "cell_type": "code",
      "metadata": {
        "id": "OvshbkuhbAmm"
      },
      "source": [
        "for number in range(10):\n",
        "  if number ==5:\n",
        "    break\n",
        "    print(nunber,end=\" \")"
      ],
      "execution_count": null,
      "outputs": []
    }
  ]
}